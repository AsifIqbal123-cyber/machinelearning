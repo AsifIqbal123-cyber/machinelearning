{
  "nbformat": 4,
  "nbformat_minor": 0,
  "metadata": {
    "colab": {
      "provenance": [],
      "authorship_tag": "ABX9TyPAxYhpzrgHESTbdKmH/HmR",
      "include_colab_link": true
    },
    "kernelspec": {
      "name": "python3",
      "display_name": "Python 3"
    },
    "language_info": {
      "name": "python"
    }
  },
  "cells": [
    {
      "cell_type": "markdown",
      "metadata": {
        "id": "view-in-github",
        "colab_type": "text"
      },
      "source": [
        "<a href=\"https://colab.research.google.com/github/AsifIqbal123-cyber/machinelearning/blob/main/Adult_income.ipynb\" target=\"_parent\"><img src=\"https://colab.research.google.com/assets/colab-badge.svg\" alt=\"Open In Colab\"/></a>"
      ]
    },
    {
      "cell_type": "code",
      "execution_count": 103,
      "metadata": {
        "colab": {
          "base_uri": "https://localhost:8080/"
        },
        "id": "RHO4MDL_ttP1",
        "outputId": "12b36510-73ca-4b31-b295-5a45a41864c3"
      },
      "outputs": [
        {
          "output_type": "stream",
          "name": "stdout",
          "text": [
            "   age  workclass  fnlwgt     education  education-num      marital-status  \\\n",
            "0   25    Private  226802          11th              7       Never-married   \n",
            "1   38    Private   89814       HS-grad              9  Married-civ-spouse   \n",
            "2   28  Local-gov  336951    Assoc-acdm             12  Married-civ-spouse   \n",
            "3   44    Private  160323  Some-college             10  Married-civ-spouse   \n",
            "4   18        NaN  103497  Some-college             10       Never-married   \n",
            "\n",
            "          occupation relationship   race     sex  capital-gain  capital-loss  \\\n",
            "0  Machine-op-inspct    Own-child  Black    Male             0             0   \n",
            "1    Farming-fishing      Husband  White    Male             0             0   \n",
            "2    Protective-serv      Husband  White    Male             0             0   \n",
            "3  Machine-op-inspct      Husband  Black    Male          7688             0   \n",
            "4                NaN    Own-child  White  Female             0             0   \n",
            "\n",
            "   hours-per-week native-country  \n",
            "0              40  United-States  \n",
            "1              50  United-States  \n",
            "2              40  United-States  \n",
            "3              40  United-States  \n",
            "4              30  United-States  \n",
            "['<=50K', '>50K']\n",
            "Categories (2, object): ['<=50K', '>50K']\n",
            "   age  workclass  fnlwgt     education  education-num      marital-status  \\\n",
            "0   25    Private  226802          11th              7       Never-married   \n",
            "1   38    Private   89814       HS-grad              9  Married-civ-spouse   \n",
            "2   28  Local-gov  336951    Assoc-acdm             12  Married-civ-spouse   \n",
            "3   44    Private  160323  Some-college             10  Married-civ-spouse   \n",
            "4   18        NaN  103497  Some-college             10       Never-married   \n",
            "\n",
            "          occupation relationship   race     sex  capital-gain  capital-loss  \\\n",
            "0  Machine-op-inspct    Own-child  Black    Male             0             0   \n",
            "1    Farming-fishing      Husband  White    Male             0             0   \n",
            "2    Protective-serv      Husband  White    Male             0             0   \n",
            "3  Machine-op-inspct      Husband  Black    Male          7688             0   \n",
            "4                NaN    Own-child  White  Female             0             0   \n",
            "\n",
            "   hours-per-week native-country income  \n",
            "0              40  United-States  <=50K  \n",
            "1              50  United-States  <=50K  \n",
            "2              40  United-States   >50K  \n",
            "3              40  United-States   >50K  \n",
            "4              30  United-States  <=50K  \n"
          ]
        }
      ],
      "source": [
        "from sklearn.datasets import fetch_openml\n",
        "import pandas as pd\n",
        "\n",
        "# Load the dataset\n",
        "X, y = fetch_openml(name='adult', version=2, as_frame=True, return_X_y=True)\n",
        "\n",
        "# Print the first few rows of the dataset\n",
        "print(X.head())\n",
        "print(y.unique())\n",
        "\n",
        "\n",
        "# Convert the data to a Pandas DataFrame\n",
        "df = pd.DataFrame(adult_data.data, columns=adult_data.feature_names)\n",
        "df['income']=y\n",
        "# Create a DataFrame\n",
        "print(df.head())"
      ]
    },
    {
      "cell_type": "code",
      "source": [
        "#Preprocess dataframe\n",
        "print(df.shape)\n",
        "(df == \"?\").sum()\n"
      ],
      "metadata": {
        "colab": {
          "base_uri": "https://localhost:8080/",
          "height": 572
        },
        "id": "oBvpb0CnuhEu",
        "outputId": "06d8259b-6155-4484-ed86-db19d5ed0f4d"
      },
      "execution_count": 104,
      "outputs": [
        {
          "output_type": "stream",
          "name": "stdout",
          "text": [
            "(48842, 15)\n"
          ]
        },
        {
          "output_type": "execute_result",
          "data": {
            "text/plain": [
              "age               0\n",
              "workclass         0\n",
              "fnlwgt            0\n",
              "education         0\n",
              "education-num     0\n",
              "marital-status    0\n",
              "occupation        0\n",
              "relationship      0\n",
              "race              0\n",
              "sex               0\n",
              "capital-gain      0\n",
              "capital-loss      0\n",
              "hours-per-week    0\n",
              "native-country    0\n",
              "income            0\n",
              "dtype: int64"
            ],
            "text/html": [
              "<div>\n",
              "<style scoped>\n",
              "    .dataframe tbody tr th:only-of-type {\n",
              "        vertical-align: middle;\n",
              "    }\n",
              "\n",
              "    .dataframe tbody tr th {\n",
              "        vertical-align: top;\n",
              "    }\n",
              "\n",
              "    .dataframe thead th {\n",
              "        text-align: right;\n",
              "    }\n",
              "</style>\n",
              "<table border=\"1\" class=\"dataframe\">\n",
              "  <thead>\n",
              "    <tr style=\"text-align: right;\">\n",
              "      <th></th>\n",
              "      <th>0</th>\n",
              "    </tr>\n",
              "  </thead>\n",
              "  <tbody>\n",
              "    <tr>\n",
              "      <th>age</th>\n",
              "      <td>0</td>\n",
              "    </tr>\n",
              "    <tr>\n",
              "      <th>workclass</th>\n",
              "      <td>0</td>\n",
              "    </tr>\n",
              "    <tr>\n",
              "      <th>fnlwgt</th>\n",
              "      <td>0</td>\n",
              "    </tr>\n",
              "    <tr>\n",
              "      <th>education</th>\n",
              "      <td>0</td>\n",
              "    </tr>\n",
              "    <tr>\n",
              "      <th>education-num</th>\n",
              "      <td>0</td>\n",
              "    </tr>\n",
              "    <tr>\n",
              "      <th>marital-status</th>\n",
              "      <td>0</td>\n",
              "    </tr>\n",
              "    <tr>\n",
              "      <th>occupation</th>\n",
              "      <td>0</td>\n",
              "    </tr>\n",
              "    <tr>\n",
              "      <th>relationship</th>\n",
              "      <td>0</td>\n",
              "    </tr>\n",
              "    <tr>\n",
              "      <th>race</th>\n",
              "      <td>0</td>\n",
              "    </tr>\n",
              "    <tr>\n",
              "      <th>sex</th>\n",
              "      <td>0</td>\n",
              "    </tr>\n",
              "    <tr>\n",
              "      <th>capital-gain</th>\n",
              "      <td>0</td>\n",
              "    </tr>\n",
              "    <tr>\n",
              "      <th>capital-loss</th>\n",
              "      <td>0</td>\n",
              "    </tr>\n",
              "    <tr>\n",
              "      <th>hours-per-week</th>\n",
              "      <td>0</td>\n",
              "    </tr>\n",
              "    <tr>\n",
              "      <th>native-country</th>\n",
              "      <td>0</td>\n",
              "    </tr>\n",
              "    <tr>\n",
              "      <th>income</th>\n",
              "      <td>0</td>\n",
              "    </tr>\n",
              "  </tbody>\n",
              "</table>\n",
              "</div><br><label><b>dtype:</b> int64</label>"
            ]
          },
          "metadata": {},
          "execution_count": 104
        }
      ]
    },
    {
      "cell_type": "code",
      "source": [
        "(df == \"NaN\").sum()"
      ],
      "metadata": {
        "colab": {
          "base_uri": "https://localhost:8080/",
          "height": 554
        },
        "id": "Aeb3ORxsu_Ui",
        "outputId": "5ff63f11-ea25-4715-b185-ba427be2c538"
      },
      "execution_count": 105,
      "outputs": [
        {
          "output_type": "execute_result",
          "data": {
            "text/plain": [
              "age               0\n",
              "workclass         0\n",
              "fnlwgt            0\n",
              "education         0\n",
              "education-num     0\n",
              "marital-status    0\n",
              "occupation        0\n",
              "relationship      0\n",
              "race              0\n",
              "sex               0\n",
              "capital-gain      0\n",
              "capital-loss      0\n",
              "hours-per-week    0\n",
              "native-country    0\n",
              "income            0\n",
              "dtype: int64"
            ],
            "text/html": [
              "<div>\n",
              "<style scoped>\n",
              "    .dataframe tbody tr th:only-of-type {\n",
              "        vertical-align: middle;\n",
              "    }\n",
              "\n",
              "    .dataframe tbody tr th {\n",
              "        vertical-align: top;\n",
              "    }\n",
              "\n",
              "    .dataframe thead th {\n",
              "        text-align: right;\n",
              "    }\n",
              "</style>\n",
              "<table border=\"1\" class=\"dataframe\">\n",
              "  <thead>\n",
              "    <tr style=\"text-align: right;\">\n",
              "      <th></th>\n",
              "      <th>0</th>\n",
              "    </tr>\n",
              "  </thead>\n",
              "  <tbody>\n",
              "    <tr>\n",
              "      <th>age</th>\n",
              "      <td>0</td>\n",
              "    </tr>\n",
              "    <tr>\n",
              "      <th>workclass</th>\n",
              "      <td>0</td>\n",
              "    </tr>\n",
              "    <tr>\n",
              "      <th>fnlwgt</th>\n",
              "      <td>0</td>\n",
              "    </tr>\n",
              "    <tr>\n",
              "      <th>education</th>\n",
              "      <td>0</td>\n",
              "    </tr>\n",
              "    <tr>\n",
              "      <th>education-num</th>\n",
              "      <td>0</td>\n",
              "    </tr>\n",
              "    <tr>\n",
              "      <th>marital-status</th>\n",
              "      <td>0</td>\n",
              "    </tr>\n",
              "    <tr>\n",
              "      <th>occupation</th>\n",
              "      <td>0</td>\n",
              "    </tr>\n",
              "    <tr>\n",
              "      <th>relationship</th>\n",
              "      <td>0</td>\n",
              "    </tr>\n",
              "    <tr>\n",
              "      <th>race</th>\n",
              "      <td>0</td>\n",
              "    </tr>\n",
              "    <tr>\n",
              "      <th>sex</th>\n",
              "      <td>0</td>\n",
              "    </tr>\n",
              "    <tr>\n",
              "      <th>capital-gain</th>\n",
              "      <td>0</td>\n",
              "    </tr>\n",
              "    <tr>\n",
              "      <th>capital-loss</th>\n",
              "      <td>0</td>\n",
              "    </tr>\n",
              "    <tr>\n",
              "      <th>hours-per-week</th>\n",
              "      <td>0</td>\n",
              "    </tr>\n",
              "    <tr>\n",
              "      <th>native-country</th>\n",
              "      <td>0</td>\n",
              "    </tr>\n",
              "    <tr>\n",
              "      <th>income</th>\n",
              "      <td>0</td>\n",
              "    </tr>\n",
              "  </tbody>\n",
              "</table>\n",
              "</div><br><label><b>dtype:</b> int64</label>"
            ]
          },
          "metadata": {},
          "execution_count": 105
        }
      ]
    },
    {
      "cell_type": "code",
      "source": [
        "# Rows that contain \"?\"\n",
        "\n",
        "rows_with_missing_values = df[df.isin([\"?\"]).any(axis=1)]\n",
        "print(rows_with_missing_values)\n",
        "\n",
        "(df == \"?\").sum().sum()"
      ],
      "metadata": {
        "colab": {
          "base_uri": "https://localhost:8080/"
        },
        "id": "steRU0EFvL0b",
        "outputId": "cc65ae18-77be-4ebd-9995-ee4e87267466"
      },
      "execution_count": 106,
      "outputs": [
        {
          "output_type": "stream",
          "name": "stdout",
          "text": [
            "Empty DataFrame\n",
            "Columns: [age, workclass, fnlwgt, education, education-num, marital-status, occupation, relationship, race, sex, capital-gain, capital-loss, hours-per-week, native-country, income]\n",
            "Index: []\n"
          ]
        },
        {
          "output_type": "execute_result",
          "data": {
            "text/plain": [
              "np.int64(0)"
            ]
          },
          "metadata": {},
          "execution_count": 106
        }
      ]
    },
    {
      "cell_type": "code",
      "source": [
        "# If missing values exist\n",
        "# import numpy as np\n",
        "# df.replace('?',np.nan)\n",
        "\n",
        "# print(df.isnull().sum())\n",
        "\n",
        "# Now check missing values\n",
        "# print(df.isnull().sum())\n",
        "\n",
        "# df= df.dropna()"
      ],
      "metadata": {
        "id": "10zCbYkDvy1c"
      },
      "execution_count": 95,
      "outputs": []
    },
    {
      "cell_type": "code",
      "source": [
        "print(df)"
      ],
      "metadata": {
        "colab": {
          "base_uri": "https://localhost:8080/"
        },
        "id": "3FMvDECGxyPq",
        "outputId": "238af26f-9274-4cb8-b209-ead544a58b1a"
      },
      "execution_count": 107,
      "outputs": [
        {
          "output_type": "stream",
          "name": "stdout",
          "text": [
            "       age     workclass  fnlwgt     education  education-num  \\\n",
            "0       25       Private  226802          11th              7   \n",
            "1       38       Private   89814       HS-grad              9   \n",
            "2       28     Local-gov  336951    Assoc-acdm             12   \n",
            "3       44       Private  160323  Some-college             10   \n",
            "4       18           NaN  103497  Some-college             10   \n",
            "...    ...           ...     ...           ...            ...   \n",
            "48837   27       Private  257302    Assoc-acdm             12   \n",
            "48838   40       Private  154374       HS-grad              9   \n",
            "48839   58       Private  151910       HS-grad              9   \n",
            "48840   22       Private  201490       HS-grad              9   \n",
            "48841   52  Self-emp-inc  287927       HS-grad              9   \n",
            "\n",
            "           marital-status         occupation relationship   race     sex  \\\n",
            "0           Never-married  Machine-op-inspct    Own-child  Black    Male   \n",
            "1      Married-civ-spouse    Farming-fishing      Husband  White    Male   \n",
            "2      Married-civ-spouse    Protective-serv      Husband  White    Male   \n",
            "3      Married-civ-spouse  Machine-op-inspct      Husband  Black    Male   \n",
            "4           Never-married                NaN    Own-child  White  Female   \n",
            "...                   ...                ...          ...    ...     ...   \n",
            "48837  Married-civ-spouse       Tech-support         Wife  White  Female   \n",
            "48838  Married-civ-spouse  Machine-op-inspct      Husband  White    Male   \n",
            "48839             Widowed       Adm-clerical    Unmarried  White  Female   \n",
            "48840       Never-married       Adm-clerical    Own-child  White    Male   \n",
            "48841  Married-civ-spouse    Exec-managerial         Wife  White  Female   \n",
            "\n",
            "       capital-gain  capital-loss  hours-per-week native-country income  \n",
            "0                 0             0              40  United-States  <=50K  \n",
            "1                 0             0              50  United-States  <=50K  \n",
            "2                 0             0              40  United-States   >50K  \n",
            "3              7688             0              40  United-States   >50K  \n",
            "4                 0             0              30  United-States  <=50K  \n",
            "...             ...           ...             ...            ...    ...  \n",
            "48837             0             0              38  United-States  <=50K  \n",
            "48838             0             0              40  United-States   >50K  \n",
            "48839             0             0              40  United-States  <=50K  \n",
            "48840             0             0              20  United-States  <=50K  \n",
            "48841         15024             0              40  United-States   >50K  \n",
            "\n",
            "[48842 rows x 15 columns]\n"
          ]
        }
      ]
    },
    {
      "cell_type": "code",
      "source": [
        "from sklearn.model_selection import train_test_split\n",
        "# Find the X and y\n",
        "features_names = df[:0]\n",
        "features_names.shape\n",
        "X = df.drop('income', axis=1)\n",
        "y = df['income']\n",
        "\n",
        "print(X.head())\n",
        "print(y.head())\n",
        "\n",
        "X_train, X_test, y_train, y_test = train_test_split(X, y, test_size=0.2, random_state=42)\n",
        "\n",
        "len(X_train), len(X_test), len(y_train), len(y_test)"
      ],
      "metadata": {
        "colab": {
          "base_uri": "https://localhost:8080/"
        },
        "id": "FszMV-e2yEmb",
        "outputId": "9ccd128e-be41-4d44-fa97-a60107d95b20"
      },
      "execution_count": 108,
      "outputs": [
        {
          "output_type": "stream",
          "name": "stdout",
          "text": [
            "   age  workclass  fnlwgt     education  education-num      marital-status  \\\n",
            "0   25    Private  226802          11th              7       Never-married   \n",
            "1   38    Private   89814       HS-grad              9  Married-civ-spouse   \n",
            "2   28  Local-gov  336951    Assoc-acdm             12  Married-civ-spouse   \n",
            "3   44    Private  160323  Some-college             10  Married-civ-spouse   \n",
            "4   18        NaN  103497  Some-college             10       Never-married   \n",
            "\n",
            "          occupation relationship   race     sex  capital-gain  capital-loss  \\\n",
            "0  Machine-op-inspct    Own-child  Black    Male             0             0   \n",
            "1    Farming-fishing      Husband  White    Male             0             0   \n",
            "2    Protective-serv      Husband  White    Male             0             0   \n",
            "3  Machine-op-inspct      Husband  Black    Male          7688             0   \n",
            "4                NaN    Own-child  White  Female             0             0   \n",
            "\n",
            "   hours-per-week native-country  \n",
            "0              40  United-States  \n",
            "1              50  United-States  \n",
            "2              40  United-States  \n",
            "3              40  United-States  \n",
            "4              30  United-States  \n",
            "0    <=50K\n",
            "1    <=50K\n",
            "2     >50K\n",
            "3     >50K\n",
            "4    <=50K\n",
            "Name: income, dtype: category\n",
            "Categories (2, object): ['<=50K', '>50K']\n"
          ]
        },
        {
          "output_type": "execute_result",
          "data": {
            "text/plain": [
              "(39073, 9769, 39073, 9769)"
            ]
          },
          "metadata": {},
          "execution_count": 108
        }
      ]
    },
    {
      "cell_type": "code",
      "source": [
        "# Conver the data into tensors\n",
        "import torch\n",
        "from sklearn.preprocessing import StandardScaler\n",
        "# Convert the data into tensors\n",
        "X_train = torch.tensor(X_train.values, dtype=torch.float32)\n",
        "X_test = torch.tensor(X_test.values, dtype=torch.float32)\n",
        "\n",
        "scaler = StandardScaler()\n",
        "X_train = scaler.fit_transform(X_train)\n",
        "X_test = scaler.transform(X_test)\n",
        "\n",
        "y_train = torch.tensor(y_train.values, dtype=torch.float32).squeeze()\n",
        "y_test = torch.tensor(y_test.values, dtype=torch.float32).squeeze()"
      ],
      "metadata": {
        "colab": {
          "base_uri": "https://localhost:8080/",
          "height": 245
        },
        "id": "P6EXJSkF06Na",
        "outputId": "3d11d041-de32-49cd-9287-7422d001f019"
      },
      "execution_count": 109,
      "outputs": [
        {
          "output_type": "error",
          "ename": "TypeError",
          "evalue": "can't convert np.ndarray of type numpy.object_. The only supported types are: float64, float32, float16, complex64, complex128, int64, int32, int16, int8, uint64, uint32, uint16, uint8, and bool.",
          "traceback": [
            "\u001b[0;31m---------------------------------------------------------------------------\u001b[0m",
            "\u001b[0;31mTypeError\u001b[0m                                 Traceback (most recent call last)",
            "\u001b[0;32m/tmp/ipython-input-109-3621968829.py\u001b[0m in \u001b[0;36m<cell line: 0>\u001b[0;34m()\u001b[0m\n\u001b[1;32m      3\u001b[0m \u001b[0;32mfrom\u001b[0m \u001b[0msklearn\u001b[0m\u001b[0;34m.\u001b[0m\u001b[0mpreprocessing\u001b[0m \u001b[0;32mimport\u001b[0m \u001b[0mStandardScaler\u001b[0m\u001b[0;34m\u001b[0m\u001b[0;34m\u001b[0m\u001b[0m\n\u001b[1;32m      4\u001b[0m \u001b[0;31m# Convert the data into tensors\u001b[0m\u001b[0;34m\u001b[0m\u001b[0;34m\u001b[0m\u001b[0m\n\u001b[0;32m----> 5\u001b[0;31m \u001b[0mX_train\u001b[0m \u001b[0;34m=\u001b[0m \u001b[0mtorch\u001b[0m\u001b[0;34m.\u001b[0m\u001b[0mtensor\u001b[0m\u001b[0;34m(\u001b[0m\u001b[0mX_train\u001b[0m\u001b[0;34m.\u001b[0m\u001b[0mvalues\u001b[0m\u001b[0;34m,\u001b[0m \u001b[0mdtype\u001b[0m\u001b[0;34m=\u001b[0m\u001b[0mtorch\u001b[0m\u001b[0;34m.\u001b[0m\u001b[0mfloat32\u001b[0m\u001b[0;34m)\u001b[0m\u001b[0;34m\u001b[0m\u001b[0;34m\u001b[0m\u001b[0m\n\u001b[0m\u001b[1;32m      6\u001b[0m \u001b[0mX_test\u001b[0m \u001b[0;34m=\u001b[0m \u001b[0mtorch\u001b[0m\u001b[0;34m.\u001b[0m\u001b[0mtensor\u001b[0m\u001b[0;34m(\u001b[0m\u001b[0mX_test\u001b[0m\u001b[0;34m.\u001b[0m\u001b[0mvalues\u001b[0m\u001b[0;34m,\u001b[0m \u001b[0mdtype\u001b[0m\u001b[0;34m=\u001b[0m\u001b[0mtorch\u001b[0m\u001b[0;34m.\u001b[0m\u001b[0mfloat32\u001b[0m\u001b[0;34m)\u001b[0m\u001b[0;34m\u001b[0m\u001b[0;34m\u001b[0m\u001b[0m\n\u001b[1;32m      7\u001b[0m \u001b[0;34m\u001b[0m\u001b[0m\n",
            "\u001b[0;31mTypeError\u001b[0m: can't convert np.ndarray of type numpy.object_. The only supported types are: float64, float32, float16, complex64, complex128, int64, int32, int16, int8, uint64, uint32, uint16, uint8, and bool."
          ]
        }
      ]
    },
    {
      "cell_type": "code",
      "source": [
        "# Error above shows that the values have to numeric instead of string.\n",
        "# Use One-hot encode categorical\n",
        "from sklearn.preprocessing import StandardScaler\n",
        "\n",
        "\n",
        "# One-hot encode categorical columns (excluding the target)\n",
        "X, y = fetch_openml(name='adult', version=2, as_frame=True, return_X_y=True)\n",
        "X = pd.get_dummies(X, drop_first=True)\n",
        "y = y.map({'<=50K':0,'>50K':1}).astype(int)\n",
        "\n",
        "# y = pd.get_dummies(y, drop_first=True)\n",
        "\n",
        "\n",
        "# Standardize the data and normalize it because it prevents other features to dominate\n",
        "# Mean =0 standard deviation =1\n",
        "scalar = StandardScaler()\n",
        "X[X.columns] = scalar.fit_transform(X)\n",
        "\n",
        "# Split the data into training and testing sets\n",
        "X_train, X_test, y_train, y_test = train_test_split(X, y, test_size=0.2, random_state=42)\n",
        "\n",
        "# y[y.columns] = scalar.fit_transform(y)\n",
        "print(X.head())\n",
        "print(y.head())\n",
        "\n",
        "# Split the data into training and testing sets\n",
        "X_train, X_test, y_train, y_test = train_test_split(X, y, test_size=0.2, random_state=42)"
      ],
      "metadata": {
        "colab": {
          "base_uri": "https://localhost:8080/"
        },
        "id": "Y83_OzFG2Qh_",
        "outputId": "f5d5a981-b4cd-4590-f951-2b208009987d"
      },
      "execution_count": 125,
      "outputs": [
        {
          "output_type": "stream",
          "name": "stdout",
          "text": [
            "        age    fnlwgt  education-num  capital-gain  capital-loss  \\\n",
            "0 -0.995129  0.351675      -1.197259     -0.144804     -0.217127   \n",
            "1 -0.046942 -0.945524      -0.419335     -0.144804     -0.217127   \n",
            "2 -0.776316  1.394723       0.747550     -0.144804     -0.217127   \n",
            "3  0.390683 -0.277844      -0.030373      0.886874     -0.217127   \n",
            "4 -1.505691 -0.815954      -0.030373     -0.144804     -0.217127   \n",
            "\n",
            "   hours-per-week  workclass_Local-gov  workclass_Never-worked  \\\n",
            "0       -0.034087            -0.261940                -0.01431   \n",
            "1        0.772930            -0.261940                -0.01431   \n",
            "2       -0.034087             3.817672                -0.01431   \n",
            "3       -0.034087            -0.261940                -0.01431   \n",
            "4       -0.841104            -0.261940                -0.01431   \n",
            "\n",
            "   workclass_Private  workclass_Self-emp-inc  ...  native-country_Portugal  \\\n",
            "0           0.663711               -0.189609  ...                -0.037063   \n",
            "1           0.663711               -0.189609  ...                -0.037063   \n",
            "2          -1.506680               -0.189609  ...                -0.037063   \n",
            "3           0.663711               -0.189609  ...                -0.037063   \n",
            "4          -1.506680               -0.189609  ...                -0.037063   \n",
            "\n",
            "   native-country_Puerto-Rico  native-country_Scotland  native-country_South  \\\n",
            "0                   -0.061494                 -0.02074             -0.048581   \n",
            "1                   -0.061494                 -0.02074             -0.048581   \n",
            "2                   -0.061494                 -0.02074             -0.048581   \n",
            "3                   -0.061494                 -0.02074             -0.048581   \n",
            "4                   -0.061494                 -0.02074             -0.048581   \n",
            "\n",
            "   native-country_Taiwan  native-country_Thailand  \\\n",
            "0              -0.036505                -0.024791   \n",
            "1              -0.036505                -0.024791   \n",
            "2              -0.036505                -0.024791   \n",
            "3              -0.036505                -0.024791   \n",
            "4              -0.036505                -0.024791   \n",
            "\n",
            "   native-country_Trinadad&Tobago  native-country_United-States  \\\n",
            "0                       -0.023518                      0.338083   \n",
            "1                       -0.023518                      0.338083   \n",
            "2                       -0.023518                      0.338083   \n",
            "3                       -0.023518                      0.338083   \n",
            "4                       -0.023518                      0.338083   \n",
            "\n",
            "   native-country_Vietnam  native-country_Yugoslavia  \n",
            "0               -0.041999                  -0.021705  \n",
            "1               -0.041999                  -0.021705  \n",
            "2               -0.041999                  -0.021705  \n",
            "3               -0.041999                  -0.021705  \n",
            "4               -0.041999                  -0.021705  \n",
            "\n",
            "[5 rows x 97 columns]\n",
            "0    0\n",
            "1    0\n",
            "2    1\n",
            "3    1\n",
            "4    0\n",
            "Name: class, dtype: int64\n"
          ]
        }
      ]
    },
    {
      "cell_type": "code",
      "source": [
        "import torch\n",
        "\n",
        "X_train_tensor = torch.tensor(X_train.values, dtype=torch.float32)\n",
        "X_test_tensor = torch.tensor(X_test.values, dtype=torch.float32)\n",
        "\n",
        "\n",
        "y_train_tensor = torch.tensor(y_train.values, dtype=torch.float32).squeeze()\n",
        "y_test_tensor = torch.tensor(y_test.values, dtype=torch.float32).squeeze()\n",
        "\n",
        "\n"
      ],
      "metadata": {
        "id": "dlCxSElG3tw0"
      },
      "execution_count": 127,
      "outputs": []
    },
    {
      "cell_type": "code",
      "source": [
        "print(X_train_tensor.shape)\n",
        "print(X_test_tensor.shape)\n",
        "print(y_train_tensor.shape)\n",
        "print(y_test_tensor.shape)"
      ],
      "metadata": {
        "colab": {
          "base_uri": "https://localhost:8080/"
        },
        "id": "OAC7ksLS5ErU",
        "outputId": "e4da0c82-433e-4b03-d24d-af7a4c78e453"
      },
      "execution_count": 128,
      "outputs": [
        {
          "output_type": "stream",
          "name": "stdout",
          "text": [
            "torch.Size([39073, 97])\n",
            "torch.Size([9769, 97])\n",
            "torch.Size([39073])\n",
            "torch.Size([9769])\n"
          ]
        }
      ]
    },
    {
      "cell_type": "code",
      "source": [
        "# Create a model which for this case is a multilayer perceptron (MLP) or Fully Connected Neural Network (FNN)\n",
        "# Input -> Dense -> ReLU -> Dropout -> Dense -> ... -> Output (sigmoid for classification)\n",
        "import torch.nn as nn\n",
        "import torch.nn.functional as F\n",
        "from torch.utils.data import DataLoader, TensorDataset\n",
        "# model = nn.Sequential(\n",
        "#     nn.Linear(X_train_tensor.shape[1], 64),\n",
        "#     nn.ReLU(),\n",
        "#     nn.Dropout(0.2),\n",
        "#     nn.Linear(64, 32),\n",
        "#     nn.ReLU(),\n",
        "#     nn.Dropout(0.2),\n",
        "#     nn.Linear(32, 1),\n",
        "#     nn.Sigmoid()\n",
        "# )\n",
        "\n",
        "class IncomeClassifier(nn.Module):\n",
        "  def __init__(self, input_size):\n",
        "    super(IncomeClassifier, self).__init__()\n",
        "    self.fc1 = nn.Linear(input_size, 64)\n",
        "    self.dropout1 = nn.Dropout(0.2)\n",
        "    self.fc2 = nn.Linear(64, 32)\n",
        "    self.dropout2 = nn.Dropout(0.2)\n",
        "    self.fc3 = nn.Linear(32, 1)\n",
        "\n",
        "  def forward(self, x):\n",
        "    x = F.relu(self.fc1(x))\n",
        "    x = self.dropout1(x)\n",
        "    x = F.relu(self.fc2(x))\n",
        "    x = self.dropout2(x)\n",
        "    x = torch.sigmoid(self.fc3(x))\n",
        "    return x\n",
        "\n",
        "\n"
      ],
      "metadata": {
        "id": "gUaH_gAi6O8i"
      },
      "execution_count": 129,
      "outputs": []
    },
    {
      "cell_type": "code",
      "source": [
        "# Setup the dataloader for inputing into the model\n",
        "train_dataset = TensorDataset(X_train_tensor, y_train_tensor)\n",
        "test_dataset = TensorDataset(X_test_tensor, y_test_tensor)\n",
        "\n",
        "train_dataloader = DataLoader(train_dataset, batch_size=500, shuffle=True)\n",
        "test_dataloader = DataLoader(test_dataset, batch_size=500, shuffle=False)\n",
        "\n",
        "print(torch.unique(test_dataloader.dataset.tensors[1]))\n",
        "print(torch.unique(train_dataloader.dataset.tensors[1]))"
      ],
      "metadata": {
        "colab": {
          "base_uri": "https://localhost:8080/"
        },
        "id": "XdiySRji7c--",
        "outputId": "4d79e747-e720-4e6c-dffb-5c82acf9bcb1"
      },
      "execution_count": 140,
      "outputs": [
        {
          "output_type": "stream",
          "name": "stdout",
          "text": [
            "tensor([0., 1.])\n",
            "tensor([0., 1.])\n"
          ]
        }
      ]
    },
    {
      "cell_type": "code",
      "source": [
        "# Summon the model\n",
        "\n",
        "model = IncomeClassifier(X_train_tensor.shape[1])\n",
        "# Create loss function for categorical you have BCELoss or BCEWithLogitsLoss\n",
        "loss =  nn.BCELoss()\n",
        "optimizer= torch.optim.Adam(model.parameters(), lr=0.001)\n",
        "\n",
        "epochs = 10\n",
        "\n",
        "for epoch in range(epochs):\n",
        "  model.train()\n",
        "  running_loss = 0.0\n",
        "  for X_batch, y_batch in train_dataloader:\n",
        "    optimizer.zero_grad()\n",
        "    y_pred = model(X_batch).squeeze()\n",
        "    # y_batch = torch.round(torch.sigmoid(y_batch)).squeeze()\n",
        "    y_batch = y_batch.float().squeeze()\n",
        "    loss_value = loss(y_pred, y_batch)\n",
        "    loss_value.backward()\n",
        "    optimizer.step()\n",
        "    running_loss += loss_value.item()\n",
        "\n",
        "  avg_loss = running_loss / len(train_dataloader)\n",
        "  print(f\"Epoch [{epoch+1}/{epochs}], Loss: {avg_loss:.4f}\")\n",
        "\n",
        "\n"
      ],
      "metadata": {
        "colab": {
          "base_uri": "https://localhost:8080/"
        },
        "id": "cex4xYTX7zPr",
        "outputId": "a4fd93be-b98c-44e0-c94f-d7302899d779"
      },
      "execution_count": 145,
      "outputs": [
        {
          "output_type": "stream",
          "name": "stdout",
          "text": [
            "Epoch [1/10], Loss: 0.4871\n",
            "Epoch [2/10], Loss: 0.3471\n",
            "Epoch [3/10], Loss: 0.3350\n",
            "Epoch [4/10], Loss: 0.3272\n",
            "Epoch [5/10], Loss: 0.3218\n",
            "Epoch [6/10], Loss: 0.3189\n",
            "Epoch [7/10], Loss: 0.3138\n",
            "Epoch [8/10], Loss: 0.3131\n",
            "Epoch [9/10], Loss: 0.3101\n",
            "Epoch [10/10], Loss: 0.3098\n"
          ]
        }
      ]
    },
    {
      "cell_type": "code",
      "source": [
        "model.eval()\n",
        "correct=0\n",
        "total=0\n",
        "\n",
        "with torch.no_grad():\n",
        "  for X_batch, y_batch in test_dataloader:\n",
        "    y_pred = model(X_batch).squeeze()\n",
        "    y_pred = torch.round(y_pred).float()\n",
        "    total += y_batch.size(0)\n",
        "    correct += (y_pred == y_batch).sum().item()\n",
        "\n",
        "accuracy = 100 * correct / total\n",
        "print(f\"Accuracy: {accuracy:.2f}%\")"
      ],
      "metadata": {
        "colab": {
          "base_uri": "https://localhost:8080/"
        },
        "id": "z9W_oVcsBC4S",
        "outputId": "71e4221d-bfa4-40ec-d513-b0e1d78cb09a"
      },
      "execution_count": 154,
      "outputs": [
        {
          "output_type": "stream",
          "name": "stdout",
          "text": [
            "Accuracy: 85.36%\n"
          ]
        }
      ]
    },
    {
      "cell_type": "code",
      "source": [
        "# Creating another model with BCEWithLogitsLoss() without sigmoid\n",
        "class IncomeClassifier2(nn.Module):\n",
        "  def __init__(self, input_size):\n",
        "    super(IncomeClassifier2, self).__init__()\n",
        "    self.fc1 = nn.Linear(input_size, 64)\n",
        "    self.dropout1 = nn.Dropout(0.2)\n",
        "    self.fc2 = nn.Linear(64, 32)\n",
        "    self.dropout2 = nn.Dropout(0.2)\n",
        "    self.fc3 = nn.Linear(32, 1)\n",
        "\n",
        "  def forward(self, x):\n",
        "    x = F.relu(self.fc1(x))\n",
        "    x = self.dropout1(x)\n",
        "    x = F.relu(self.fc2(x))\n",
        "    x = self.dropout2(x)\n",
        "    x = self.fc3(x)\n",
        "    return x\n"
      ],
      "metadata": {
        "id": "PemZWxmHP6HI"
      },
      "execution_count": 151,
      "outputs": []
    },
    {
      "cell_type": "code",
      "source": [
        "# Summon the model\n",
        "\n",
        "model2 = IncomeClassifier2(X_train_tensor.shape[1])\n",
        "# Create loss function for categorical you have BCELoss or BCEWithLogitsLoss\n",
        "loss =  nn.BCEWithLogitsLoss()\n",
        "optimizer= torch.optim.Adam(model.parameters(), lr=0.001)\n",
        "\n",
        "epochs = 10\n",
        "\n",
        "for epoch in range(epochs):\n",
        "  model2.train()\n",
        "  running_loss = 0.0\n",
        "  for X_batch, y_batch in train_dataloader:\n",
        "    optimizer.zero_grad()\n",
        "    y_pred = model(X_batch).squeeze()\n",
        "    # y_batch = torch.round(torch.sigmoid(y_batch)).squeeze()\n",
        "    y_batch = y_batch.float().squeeze()\n",
        "    loss_value = loss(y_pred, y_batch)\n",
        "    loss_value.backward()\n",
        "    optimizer.step()\n",
        "    running_loss += loss_value.item()\n",
        "\n",
        "  avg_loss = running_loss / len(train_dataloader)\n",
        "  print(f\"Epoch [{epoch+1}/{epochs}], Loss: {avg_loss:.4f}\")\n",
        "\n",
        "\n"
      ],
      "metadata": {
        "colab": {
          "base_uri": "https://localhost:8080/"
        },
        "id": "NMFgx87IQF-c",
        "outputId": "432a81a9-7250-4af4-c00f-2f7ba6c28625"
      },
      "execution_count": 152,
      "outputs": [
        {
          "output_type": "stream",
          "name": "stdout",
          "text": [
            "Epoch [1/10], Loss: 0.6654\n",
            "Epoch [2/10], Loss: 0.6652\n",
            "Epoch [3/10], Loss: 0.6645\n",
            "Epoch [4/10], Loss: 0.6639\n",
            "Epoch [5/10], Loss: 0.6633\n",
            "Epoch [6/10], Loss: 0.6631\n",
            "Epoch [7/10], Loss: 0.6632\n",
            "Epoch [8/10], Loss: 0.6629\n",
            "Epoch [9/10], Loss: 0.6625\n",
            "Epoch [10/10], Loss: 0.6627\n"
          ]
        }
      ]
    },
    {
      "cell_type": "code",
      "source": [
        "model2.eval()\n",
        "with torch.no_grad():\n",
        "    y_logits = model(X_test_tensor).squeeze()\n",
        "    y_probs = torch.sigmoid(y_logits)  # apply sigmoid manually for probability\n",
        "    y_pred = (y_probs > 0.5).float()\n",
        "    accuracy = (y_pred == y_test_tensor.squeeze()).float().mean()\n",
        "    print(f\"Test Accuracy: {accuracy:.4f}\")\n"
      ],
      "metadata": {
        "colab": {
          "base_uri": "https://localhost:8080/"
        },
        "id": "6Jd62kvxRC0c",
        "outputId": "61638a31-4c93-4f47-d676-c56c8b57d42d"
      },
      "execution_count": 155,
      "outputs": [
        {
          "output_type": "stream",
          "name": "stdout",
          "text": [
            "Test Accuracy: 0.7481\n"
          ]
        }
      ]
    }
  ]
}